{
 "cells": [
  {
   "cell_type": "code",
   "execution_count": null,
   "id": "0b00834f",
   "metadata": {
    "vscode": {
     "languageId": "plaintext"
    }
   },
   "outputs": [],
   "source": [
    "import json\n",
    "import matplotlib.pyplot as plt\n",
    "\n",
    "with open(\"../data/rogue_bts_list.json\") as f:\n",
    "    rogues = json.load(f)\n",
    "\n",
    "labels = [bts for bts in rogues]\n",
    "values = [1 for _ in rogues]\n",
    "\n",
    "plt.bar(labels, values)\n",
    "plt.title(\"Flagged Rogue BTSs\")\n",
    "plt.show()\n"
   ]
  }
 ],
 "metadata": {
  "language_info": {
   "name": "python"
  }
 },
 "nbformat": 4,
 "nbformat_minor": 5
}
